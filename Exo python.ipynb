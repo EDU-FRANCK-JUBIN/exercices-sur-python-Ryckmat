{
 "cells": [
  {
   "cell_type": "code",
   "execution_count": 1,
   "metadata": {},
   "outputs": [],
   "source": [
    "#Matthieu Ryckman M2 Data Science"
   ]
  },
  {
   "cell_type": "code",
   "execution_count": 28,
   "metadata": {},
   "outputs": [],
   "source": [
    "#Import nécéssaire\n",
    "from math import *\n",
    "import numpy as np"
   ]
  },
  {
   "cell_type": "code",
   "execution_count": 8,
   "metadata": {},
   "outputs": [
    {
     "name": "stdout",
     "output_type": "stream",
     "text": [
      "Entrez la valeur du rayon  : \n",
      "4\n",
      "Entrez la valeur de la hauteur : \n",
      "5\n",
      "Le volume du cone est de  83.77580409572782 m³\n"
     ]
    }
   ],
   "source": [
    "#EXO1\n",
    "print(\"Entrez la valeur du rayon  : \")\n",
    "r = int(input())\n",
    "print(\"Entrez la valeur de la hauteur : \")\n",
    "h = int(input())\n",
    "v = (pi*(r*r)*h)/3\n",
    "print(\"Le volume du cone est de \", v, \"m³\")\n"
   ]
  },
  {
   "cell_type": "code",
   "execution_count": 25,
   "metadata": {},
   "outputs": [
    {
     "name": "stdout",
     "output_type": "stream",
     "text": [
      "Entrez un entier strictement positif  : \n",
      "13\n",
      "Diviseurs propres sans répétition de  13  : aucun ! Il est premier\n"
     ]
    }
   ],
   "source": [
    "#EXO2\n",
    "while True:\n",
    "    print(\"Entrez un entier strictement positif  : \")\n",
    "    n = int(input())\n",
    "    if n > 0:\n",
    "        break\n",
    "l = [] \n",
    "\n",
    "for i in range(2,n):\n",
    "    if (n%i) == 0:\n",
    "        l.append(i)\n",
    "\n",
    "if l != []:\n",
    "    print(\"Diviseurs propres sans répétition de \",n,\" : \",l,\"soit\",len(l),\"diviseurs propres\")\n",
    "else: \n",
    "    print(\"Diviseurs propres sans répétition de \",n,\" : aucun ! Il est premier\" )"
   ]
  },
  {
   "cell_type": "code",
   "execution_count": 51,
   "metadata": {},
   "outputs": [
    {
     "name": "stdout",
     "output_type": "stream",
     "text": [
      "Entrez un entier strictement sup à 50  : \n",
      "51\n",
      "[2.71828182846, 2.7182818284590455]\n"
     ]
    }
   ],
   "source": [
    "#EXO3\n",
    "\n",
    "while True:\n",
    "    print(\"Entrez un entier strictement sup à 50  : \")\n",
    "    c = int(input())\n",
    "    if c > 50:\n",
    "        break\n",
    "\n",
    "\n",
    "prox_e = 0;\n",
    "\n",
    "for n in range(c):\n",
    "    prox_e+= (1/factorial(n))\n",
    "\n",
    "\n",
    "e = 2.71828182846\n",
    "\n",
    "tab = []\n",
    "tab.append(e)\n",
    "tab.append(prox_e)\n",
    "print(tab)"
   ]
  },
  {
   "cell_type": "code",
   "execution_count": 67,
   "metadata": {},
   "outputs": [
    {
     "name": "stdout",
     "output_type": "stream",
     "text": [
      "agggtttccacacacgt\n",
      "chaine: \n",
      "séquence: : \n",
      "ca\n",
      "Il y a  17.647058823529413  % de  ca dans votre chaine.\n"
     ]
    }
   ],
   "source": [
    " #EXO4\n",
    "def valide(adn):\n",
    "    if adn == \"\":\n",
    "        return False\n",
    "    for i in adn:\n",
    "        if i != \"a\" and i !=\"t\" and i!=\"g\" and i!=\"c\":\n",
    "            return False\n",
    "    \n",
    "    return True\n",
    "\n",
    "\n",
    "def saisie():\n",
    "    while True:\n",
    "        adn = input()\n",
    "        if valide(adn):\n",
    "            break\n",
    "    return adn\n",
    "\n",
    "\n",
    "def proportion(adn, seq):\n",
    "    deb = 0\n",
    "    fin = len(seq)\n",
    "    cpt = 0\n",
    "    \n",
    "    while (fin < len(adn)):\n",
    "        if (adn[deb:fin] == seq):\n",
    "            cpt+=1\n",
    "        deb += 1\n",
    "        fin += 1\n",
    "        \n",
    "    per = cpt/len(adn)\n",
    "    return per*100\n",
    "\n",
    "chaine = saisie()\n",
    "print(\"chaine: \")\n",
    "print(\"séquence: : \")\n",
    "seq = input()\n",
    "per = proportion(chaine, seq) \n",
    "\n",
    "print(\"Il y a \", per, \" % de \", seq, \"dans votre chaine.\")\n",
    "    \n",
    "       \n",
    "   \n"
   ]
  },
  {
   "cell_type": "code",
   "execution_count": 71,
   "metadata": {},
   "outputs": [
    {
     "data": {
      "text/plain": [
       "[10, 20, 15.0]"
      ]
     },
     "execution_count": 71,
     "metadata": {},
     "output_type": "execute_result"
    }
   ],
   "source": [
    "#Exo5\n",
    "def minMaxMoy(l):\n",
    "    l2 = []\n",
    "    l2.append(min(l))\n",
    "    l2.append(max(l))\n",
    "    l2.append(sum(l) / len(l))\n",
    "    return l2\n",
    "\n",
    "\n",
    "minMaxMoy([10,18,14,20,12,16])   "
   ]
  },
  {
   "cell_type": "code",
   "execution_count": 86,
   "metadata": {},
   "outputs": [
    {
     "name": "stdout",
     "output_type": "stream",
     "text": [
      "99\n"
     ]
    },
    {
     "data": {
      "text/plain": [
       "'XCIX'"
      ]
     },
     "execution_count": 86,
     "metadata": {},
     "output_type": "execute_result"
    }
   ],
   "source": [
    "#EXO6 \n",
    "def Ave_cesar(num):\n",
    "        v = [\n",
    "            1000, 900, 500, 400,\n",
    "            100, 90, 50, 40,\n",
    "            10, 9, 5, 4,\n",
    "            1\n",
    "            ]\n",
    "        s = [\n",
    "            \"M\", \"CM\", \"D\", \"CD\",\n",
    "            \"C\", \"XC\", \"L\", \"XL\",\n",
    "            \"X\", \"IX\", \"V\", \"IV\",\n",
    "            \"I\"\n",
    "            ]\n",
    "        roman_num = ''\n",
    "        i = 0\n",
    "        while  num > 0:\n",
    "            for _ in range(num // v[i]):\n",
    "                roman_num += s[i]\n",
    "                num -= v[i]\n",
    "            i += 1\n",
    "        return roman_num\n",
    "u = int(input())\n",
    "Ave_cesar(u)"
   ]
  },
  {
   "cell_type": "code",
   "execution_count": 89,
   "metadata": {},
   "outputs": [
    {
     "name": "stdout",
     "output_type": "stream",
     "text": [
      "-2\n",
      "4402\n",
      "31270\n",
      "101338\n",
      "235342\n",
      "454018\n",
      "778102\n",
      "1228330\n"
     ]
    }
   ],
   "source": [
    "#EXO7\n",
    "\n",
    "def maFonction(x):\n",
    "    return 2*(x*x*x)+x-5\n",
    "\n",
    "def tabuler(f,bi,bs,p):\n",
    "    if bi > bs:\n",
    "        return -1000000000\n",
    "    for i in range(bi,bs,p):\n",
    "        print(f(i))\n",
    "\n",
    "tabuler(maFonction,1,90,12)"
   ]
  },
  {
   "cell_type": "code",
   "execution_count": 98,
   "metadata": {},
   "outputs": [
    {
     "data": {
      "text/plain": [
       "{'b', 'd'}"
      ]
     },
     "execution_count": 98,
     "metadata": {},
     "output_type": "execute_result"
    }
   ],
   "source": [
    "#EXO8\n",
    "X = {'a','b','c','d'}\n",
    "Y = {'s','b','d'}\n",
    "'c' in X\n",
    "'a' in Y\n",
    "X.difference(Y)\n",
    "Y.difference(X)\n",
    "X.union(Y)\n",
    "X.intersection(Y)"
   ]
  },
  {
   "cell_type": "code",
   "execution_count": 100,
   "metadata": {},
   "outputs": [],
   "source": [
    "#EXO9 En cours\n",
    "dico = {\"Au\": \n",
    "       {\"TE/TF\":(2970,1063),\"NM atomique\":(79,196.967)}},\n",
    "        \"\""
   ]
  },
  {
   "cell_type": "code",
   "execution_count": null,
   "metadata": {},
   "outputs": [],
   "source": [
    "#EXO10\n"
   ]
  }
 ],
 "metadata": {
  "kernelspec": {
   "display_name": "Python 3",
   "language": "python",
   "name": "python3"
  },
  "language_info": {
   "codemirror_mode": {
    "name": "ipython",
    "version": 3
   },
   "file_extension": ".py",
   "mimetype": "text/x-python",
   "name": "python",
   "nbconvert_exporter": "python",
   "pygments_lexer": "ipython3",
   "version": "3.7.4"
  }
 },
 "nbformat": 4,
 "nbformat_minor": 2
}
